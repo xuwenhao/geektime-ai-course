{
 "cells": [
  {
   "attachments": {},
   "cell_type": "markdown",
   "metadata": {},
   "source": [
    "## ChatGPT不会算算术"
   ]
  },
  {
   "cell_type": "code",
   "execution_count": 1,
   "metadata": {},
   "outputs": [
    {
     "name": "stdout",
     "output_type": "stream",
     "text": [
      "OpenAI API 说答案是: \n",
      "\n",
      "352 x 493 = 174,336\n",
      "Python 说答案是: 173536\n"
     ]
    }
   ],
   "source": [
    "import openai, os\n",
    "\n",
    "openai.api_key = os.environ.get(\"OPENAI_API_KEY\")\n",
    "\n",
    "from langchain.prompts import PromptTemplate\n",
    "from langchain.llms import OpenAI\n",
    "from langchain.chains import LLMChain\n",
    "\n",
    "\n",
    "llm = OpenAI(model_name=\"gpt-3.5-turbo-instruct\", max_tokens=2048, temperature=0.5)\n",
    "multiply_prompt = PromptTemplate(template=\"请计算一下{question}是多少?\", input_variables=[\"question\"])\n",
    "math_chain = LLMChain(llm=llm, prompt=multiply_prompt, output_key=\"answer\")\n",
    "answer = math_chain.run({\"question\": \"352乘以493\"})\n",
    "print(\"OpenAI API 说答案是:\", answer)\n",
    "\n",
    "python_answer = 352 * 493\n",
    "print(\"Python 说答案是:\", python_answer)"
   ]
  },
  {
   "cell_type": "code",
   "execution_count": 11,
   "metadata": {},
   "outputs": [
    {
     "name": "stdout",
     "output_type": "stream",
     "text": [
      "\n",
      "\n",
      "print(352 * 493)\n"
     ]
    }
   ],
   "source": [
    "multiply_by_python_prompt = PromptTemplate(template=\"请写一段Python代码，计算{question}?\", input_variables=[\"question\"])\n",
    "math_chain = LLMChain(llm=llm, prompt=multiply_by_python_prompt, output_key=\"answer\")\n",
    "answer = math_chain.run({\"question\": \"352乘以493\"})\n",
    "print(answer)"
   ]
  },
  {
   "cell_type": "code",
   "execution_count": 13,
   "metadata": {},
   "outputs": [
    {
     "name": "stdout",
     "output_type": "stream",
     "text": [
      "173536\n",
      "\n"
     ]
    }
   ],
   "source": [
    "multiply_by_python_prompt = PromptTemplate(template=\"请写一段Python代码，计算{question}?\", input_variables=[\"question\"])\n",
    "math_chain = LLMChain(llm=llm, prompt=multiply_by_python_prompt, output_key=\"answer\")\n",
    "answer_code = math_chain.run({\"question\": \"352乘以493\"})\n",
    "\n",
    "from langchain.utilities import PythonREPL\n",
    "python_repl = PythonREPL()\n",
    "result = python_repl.run(answer_code)\n",
    "print(result)"
   ]
  },
  {
   "attachments": {},
   "cell_type": "markdown",
   "metadata": {},
   "source": [
    "## 通过LLMMathChain算算术"
   ]
  },
  {
   "cell_type": "code",
   "execution_count": 15,
   "metadata": {},
   "outputs": [
    {
     "name": "stdout",
     "output_type": "stream",
     "text": [
      "\n",
      "\n",
      "\u001b[1m> Entering new LLMMathChain chain...\u001b[0m\n",
      "请计算一下352乘以493是多少?\u001b[32;1m\u001b[1;3m\n",
      "```python\n",
      "print(352 * 493)\n",
      "```\n",
      "\u001b[0m\n",
      "Answer: \u001b[33;1m\u001b[1;3m173536\n",
      "\u001b[0m\n",
      "\u001b[1m> Finished chain.\u001b[0m\n",
      "Answer: 173536\n",
      "\n"
     ]
    }
   ],
   "source": [
    "from langchain import LLMMathChain\n",
    "\n",
    "llm_math = LLMMathChain(llm=llm, verbose=True)\n",
    "result = llm_math.run(\"请计算一下352乘以493是多少?\")\n",
    "print(result)"
   ]
  },
  {
   "attachments": {},
   "cell_type": "markdown",
   "metadata": {},
   "source": [
    "## 通过Google搜索查天气"
   ]
  },
  {
   "cell_type": "code",
   "execution_count": 44,
   "metadata": {},
   "outputs": [
    {
     "name": "stdout",
     "output_type": "stream",
     "text": [
      "{'query': '今天上海的天气怎么样？', 'url': 'https://www.google.com/search?q=今天上海的天气怎么样？', 'output': '小雨; 10℃～15℃; 东北风 风力4-5级'}\n",
      "小雨; 10℃～15℃; 东北风 风力4-5级\n"
     ]
    }
   ],
   "source": [
    "from langchain.chains import LLMRequestsChain\n",
    "\n",
    "template = \"\"\"在 >>> 和 <<< 直接是来自Google的原始搜索结果.\n",
    "请把对于问题 '{query}' 的答案从里面提取出来，如果里面没有相关信息的话就说 \"找不到\"\n",
    "请使用如下格式：\n",
    "Extracted:<answer or \"找不到\">\n",
    ">>> {requests_result} <<<\n",
    "Extracted:\"\"\"\n",
    "\n",
    "PROMPT = PromptTemplate(\n",
    "    input_variables=[\"query\", \"requests_result\"],\n",
    "    template=template,\n",
    ")\n",
    "requests_chain = LLMRequestsChain(llm_chain = LLMChain(llm=OpenAI(temperature=0), prompt=PROMPT))\n",
    "question = \"今天上海的天气怎么样？\"\n",
    "inputs = {\n",
    "    \"query\": question,\n",
    "    \"url\": \"https://www.google.com/search?q=\" + question.replace(\" \", \"+\")\n",
    "}\n",
    "result=requests_chain(inputs)\n",
    "print(result)\n",
    "print(result['output'])"
   ]
  },
  {
   "attachments": {},
   "cell_type": "markdown",
   "metadata": {},
   "source": [
    "## 通过TransformChain运行自定义函数"
   ]
  },
  {
   "cell_type": "code",
   "execution_count": 37,
   "metadata": {},
   "outputs": [
    {
     "name": "stdout",
     "output_type": "stream",
     "text": [
      "{'weather': '小雨', 'temperature': {'min': 10, 'max': 15}, 'wind': {'direction': '东北风', 'level': '风力4-5级'}}\n"
     ]
    }
   ],
   "source": [
    "import re\n",
    "\n",
    "def parse_weather_info(weather_info)->dict:\n",
    "    # 将天气信息拆分成不同部分\n",
    "    parts = weather_info.split('; ')\n",
    "\n",
    "    # 解析天气\n",
    "    weather = parts[0].strip()\n",
    "\n",
    "    # 解析温度范围，并提取最小和最大温度\n",
    "    temperature_range = parts[1].strip().replace('℃', '').split('～')\n",
    "    temperature_min = int(temperature_range[0])\n",
    "    temperature_max = int(temperature_range[1])\n",
    "\n",
    "    # 解析风向和风力\n",
    "    wind_parts = parts[2].split(' ')\n",
    "    wind_direction = wind_parts[0].strip()\n",
    "    wind_force = wind_parts[1].strip()\n",
    "    weather_dict = {\n",
    "        'weather': weather,\n",
    "        'temperature': {\n",
    "            'min': temperature_min,\n",
    "            'max': temperature_max,\n",
    "        },\n",
    "        'wind': {\n",
    "            'direction': wind_direction,\n",
    "            'level': wind_force\n",
    "        }\n",
    "    }\n",
    "    return weather_dict\n",
    "\n",
    "weather_dict = parse_weather_info(result['output'])\n",
    "print(weather_dict)"
   ]
  },
  {
   "cell_type": "code",
   "execution_count": 45,
   "metadata": {},
   "outputs": [],
   "source": [
    "from langchain.chains import TransformChain, SequentialChain\n",
    "\n",
    "def transform_func(inputs: dict) -> dict:\n",
    "    text = inputs[\"output\"]\n",
    "    return {\"weather_info\" : parse_weather_info(text)}\n",
    "\n",
    "transformation_chain = TransformChain(input_variables=[\"output\"], \n",
    "                                      output_variables=[\"weather_info\"], transform=transform_func)\n",
    "\n",
    "final_chain = SequentialChain(chains=[requests_chain, transformation_chain], \n",
    "                              input_variables=[\"query\", \"url\"], output_variables=[\"weather_info\"])\n",
    "final_result = final_chain.run(inputs)"
   ]
  },
  {
   "cell_type": "code",
   "execution_count": 42,
   "metadata": {},
   "outputs": [
    {
     "name": "stdout",
     "output_type": "stream",
     "text": [
      "{'weather': '小雨', 'temperature': {'min': 10, 'max': 15}, 'wind': {'direction': '东北风', 'level': '风力4-5级'}}\n"
     ]
    }
   ],
   "source": [
    "print(final_result)"
   ]
  },
  {
   "attachments": {},
   "cell_type": "markdown",
   "metadata": {},
   "source": [
    "## 通过VectorDBQA做问答"
   ]
  },
  {
   "cell_type": "code",
   "execution_count": 1,
   "metadata": {},
   "outputs": [
    {
     "name": "stderr",
     "output_type": "stream",
     "text": [
      "/Users/xuwenhao/miniconda3/envs/geektime/lib/python3.10/site-packages/langchain/chains/retrieval_qa/base.py:183: UserWarning: `VectorDBQA` is deprecated - please use `from langchain.chains import RetrievalQA`\n",
      "  warnings.warn(\n"
     ]
    }
   ],
   "source": [
    "from langchain.embeddings.openai import OpenAIEmbeddings\n",
    "from langchain.vectorstores import FAISS\n",
    "from langchain.text_splitter import SpacyTextSplitter\n",
    "from langchain import OpenAI, VectorDBQA\n",
    "from langchain.document_loaders import TextLoader\n",
    "\n",
    "llm = OpenAI(temperature=0)\n",
    "loader = TextLoader('./data/ecommerce_faq.txt')\n",
    "documents = loader.load()\n",
    "text_splitter = SpacyTextSplitter(chunk_size=256, pipeline=\"zh_core_web_sm\")\n",
    "texts = text_splitter.split_documents(documents)\n",
    "\n",
    "embeddings = OpenAIEmbeddings()\n",
    "docsearch = FAISS.from_documents(texts, embeddings)\n",
    "\n",
    "faq_chain = VectorDBQA.from_chain_type(llm=llm, vectorstore=docsearch, verbose=True)\n"
   ]
  },
  {
   "cell_type": "code",
   "execution_count": 2,
   "metadata": {},
   "outputs": [
    {
     "name": "stdout",
     "output_type": "stream",
     "text": [
      "\n",
      "\n",
      "\u001b[1m> Entering new VectorDBQA chain...\u001b[0m\n",
      "\n",
      "\u001b[1m> Finished chain.\u001b[0m\n",
      " 我们支持全国大部分省份的配送，包括三亚。一般情况下，大部分城市的订单在2-3个工作日内送达，偏远地区可能需要5-7个工作日。\n"
     ]
    }
   ],
   "source": [
    "question = \"请问你们的货，能送到三亚吗？大概需要几天？\"\n",
    "result = faq_chain.run(question)\n",
    "print(result)\n"
   ]
  },
  {
   "cell_type": "code",
   "execution_count": 3,
   "metadata": {},
   "outputs": [
    {
     "name": "stdout",
     "output_type": "stream",
     "text": [
      "\n",
      "\n",
      "\u001b[1m> Entering new VectorDBQA chain...\u001b[0m\n",
      "\n",
      "\u001b[1m> Finished chain.\u001b[0m\n",
      " 自收到商品之日起7天内，如产品未使用、包装完好，您可以申请退货。某些特殊商品可能不支持退货，请在购买前查看商品详情页面的退货政策。\n"
     ]
    }
   ],
   "source": [
    "question = \"请问你们的退货政策是怎么样的？\" \n",
    "result = faq_chain.run(question)\n",
    "print(result)"
   ]
  },
  {
   "cell_type": "code",
   "execution_count": null,
   "metadata": {},
   "outputs": [],
   "source": []
  }
 ],
 "metadata": {
  "kernelspec": {
   "display_name": "Python 3 (ipykernel)",
   "language": "python",
   "name": "python3"
  },
  "language_info": {
   "codemirror_mode": {
    "name": "ipython",
    "version": 3
   },
   "file_extension": ".py",
   "mimetype": "text/x-python",
   "name": "python",
   "nbconvert_exporter": "python",
   "pygments_lexer": "ipython3",
   "version": "3.10.9"
  }
 },
 "nbformat": 4,
 "nbformat_minor": 4
}
