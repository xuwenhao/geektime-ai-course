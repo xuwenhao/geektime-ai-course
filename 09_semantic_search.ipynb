{
 "cells": [
  {
   "attachments": {},
   "cell_type": "markdown",
   "metadata": {},
   "source": [
    "## 让AI生成点实验数据"
   ]
  },
  {
   "cell_type": "code",
   "execution_count": 20,
   "metadata": {},
   "outputs": [
    {
     "name": "stdout",
     "output_type": "stream",
     "text": [
      "\n",
      "\n",
      "1.【新款】Apple/苹果 iPhone 11 Pro Max 智能手机\n",
      "2.【特惠】华为P30 Pro 8GB+256GB 全网通版\n",
      "3.【限量】OnePlus 7T Pro 8GB+256GB 全网通\n",
      "4.【新品】小米CC9 Pro 8GB+256GB 全网通版\n",
      "5.【热销】三星Galaxy Note10+ 8GB+256GB 全网通\n",
      "6.【超值】荣耀V30 Pro 8GB+256GB 全网通版\n",
      "7.【热卖】OPPO Reno 10x Zoom 8GB+256GB 全网通\n",
      "8.【惊爆】vivo NEX 3 8GB+256GB 全网通版\n",
      "9.【好价】Apple/苹果 iPad Pro 11英寸\n",
      "10.【必抢】小米MIX Alpha 12GB+512GB 全网通\n",
      "11.【享受】华为MateBook X Pro 13.9英寸\n",
      "12.【精选】三星Galaxy Tab S6 10.5英寸\n",
      "13.【超值】荣耀MagicBook 14英寸\n",
      "14.【热卖】联想ThinkPad X1 Carbon 14英寸\n",
      "15.【新品】华硕ZenBook Pro 15.6英寸\n",
      "16.【限量】惠普Spectre x360 15.6英寸\n",
      "17.【特惠】雷蛇Razer Blade 15.6英寸\n",
      "18.【新款】Apple/苹果 Macbook Pro 16英寸\n",
      "19.【精选】华为MateBook D 15.6英寸\n",
      "20.【享受】小米Air 13.3英寸\n",
      "21.【热销】联想Yoga C930 13.9英寸\n",
      "22.【超值】惠普Envy 13 13.3英寸\n",
      "23.【惊爆】Acer Swift 7 13.3英寸\n",
      "24.【好价】华硕ZenBook 13.3英寸\n",
      "25.【必抢】联想ThinkPad X1 Yoga 14英寸\n",
      "26.【新品】惠普Spectre Folio 13.3英寸\n",
      "27.【限量】华为MateBook X Pro 13.9英寸\n",
      "28.【特惠】联想ThinkPad X1 Carbon 14英寸\n",
      "29.【新款】联想Yoga C930 13.9英寸\n",
      "30.【精选】Acer Swift 7 13.3英寸\n",
      "31.【超值】华硕ZenBook 13.3英寸\n",
      "32.【热销】Apple/苹果 Macbook Pro 16英寸\n",
      "33.【享受】小米Air 13.3英寸\n",
      "34.【热卖】雷蛇Razer Blade 15.6英寸\n",
      "35.【好价】惠普Spectre x360 15.6英寸\n",
      "36.【必抢】惠普Spectre Folio 13.3英寸\n",
      "37.【新品】荣耀MagicBook 14英寸\n",
      "38.【限量】荣耀V30 Pro 8GB+256GB 全网通版\n",
      "39.【特惠】三星Galaxy Note10+ 8GB+256GB 全网通\n",
      "40.【新款】OPPO Reno 10x Zoom 8GB+256GB 全网通\n",
      "41.【精选】vivo NEX 3 8GB+256GB 全网通版\n",
      "42.【超值】华为P30 Pro 8GB+256GB 全网通\n",
      "43.【热销】Apple/苹果 iPhone 11 Pro Max 智能手机\n",
      "44.【享受】三星Galaxy Tab S6 10.5英寸\n",
      "45.【热卖】Apple/苹果 iPad Pro 11英寸\n",
      "46.【好价】小米CC9 Pro 8GB+256GB 全网通版\n",
      "47.【必抢】小米MIX Alpha 12GB+512GB 全网通\n",
      "48.【新品】OnePlus 7T Pro 8GB+256GB 全网通\n",
      "49.【限量】华硕ZenBook Pro 15.6英寸\n",
      "50.【特惠】联想ThinkPad X1 Yoga 14英寸\n"
     ]
    }
   ],
   "source": [
    "import openai, os\n",
    "\n",
    "openai.api_key = os.environ.get(\"OPENAI_API_KEY\")\n",
    "\n",
    "COMPLETION_MODEL = \"gpt-3.5-turbo-instruct\"\n",
    "\n",
    "def generate_data_by_prompt(prompt):\n",
    "    response = openai.Completion.create(\n",
    "        engine=COMPLETION_MODEL,\n",
    "        prompt=prompt,\n",
    "        temperature=0.5,\n",
    "        max_tokens=2048,\n",
    "        top_p=1,\n",
    "    )\n",
    "    return response.choices[0].text\n",
    "\n",
    "prompt = \"\"\"请你生成50条淘宝网里的商品的标题，每条在30个字左右，品类是3C数码产品，标题里往往也会有一些促销类的信息，每行一条。\"\"\"\n",
    "data = generate_data_by_prompt(prompt)\n",
    "print(data)"
   ]
  },
  {
   "cell_type": "markdown",
   "metadata": {},
   "source": [
    "为了让数据和真实情况更加接近一点，我们可以好好设计一下我们的提示语。比如，我这里就指明了是淘宝的商品，品类是3C，并且标题里要包含一些促销信息。\n",
    "\n",
    "我们把拿到的返回结果，按行分割，加载到一个DataFrame里面，看看结果会是怎么样的："
   ]
  },
  {
   "cell_type": "code",
   "execution_count": 21,
   "metadata": {},
   "outputs": [
    {
     "data": {
      "text/html": [
       "<div>\n",
       "<style scoped>\n",
       "    .dataframe tbody tr th:only-of-type {\n",
       "        vertical-align: middle;\n",
       "    }\n",
       "\n",
       "    .dataframe tbody tr th {\n",
       "        vertical-align: top;\n",
       "    }\n",
       "\n",
       "    .dataframe thead th {\n",
       "        text-align: right;\n",
       "    }\n",
       "</style>\n",
       "<table border=\"1\" class=\"dataframe\">\n",
       "  <thead>\n",
       "    <tr style=\"text-align: right;\">\n",
       "      <th></th>\n",
       "      <th>product_name</th>\n",
       "    </tr>\n",
       "  </thead>\n",
       "  <tbody>\n",
       "    <tr>\n",
       "      <th>0</th>\n",
       "      <td>1.【新款】Apple/苹果 iPhone 11 Pro Max 智能手机</td>\n",
       "    </tr>\n",
       "    <tr>\n",
       "      <th>1</th>\n",
       "      <td>2.【特惠】华为P30 Pro 8GB+256GB 全网通版</td>\n",
       "    </tr>\n",
       "    <tr>\n",
       "      <th>2</th>\n",
       "      <td>3.【限量】OnePlus 7T Pro 8GB+256GB 全网通</td>\n",
       "    </tr>\n",
       "    <tr>\n",
       "      <th>3</th>\n",
       "      <td>4.【新品】小米CC9 Pro 8GB+256GB 全网通版</td>\n",
       "    </tr>\n",
       "    <tr>\n",
       "      <th>4</th>\n",
       "      <td>5.【热销】三星Galaxy Note10+ 8GB+256GB 全网通</td>\n",
       "    </tr>\n",
       "  </tbody>\n",
       "</table>\n",
       "</div>"
      ],
      "text/plain": [
       "                            product_name\n",
       "0  1.【新款】Apple/苹果 iPhone 11 Pro Max 智能手机\n",
       "1         2.【特惠】华为P30 Pro 8GB+256GB 全网通版\n",
       "2     3.【限量】OnePlus 7T Pro 8GB+256GB 全网通\n",
       "3         4.【新品】小米CC9 Pro 8GB+256GB 全网通版\n",
       "4   5.【热销】三星Galaxy Note10+ 8GB+256GB 全网通"
      ]
     },
     "execution_count": 21,
     "metadata": {},
     "output_type": "execute_result"
    }
   ],
   "source": [
    "import pandas as pd\n",
    "\n",
    "product_names = data.strip().split('\\n')\n",
    "df = pd.DataFrame({'product_name': product_names})\n",
    "df.head()"
   ]
  },
  {
   "cell_type": "code",
   "execution_count": 23,
   "metadata": {},
   "outputs": [
    {
     "data": {
      "text/html": [
       "<div>\n",
       "<style scoped>\n",
       "    .dataframe tbody tr th:only-of-type {\n",
       "        vertical-align: middle;\n",
       "    }\n",
       "\n",
       "    .dataframe tbody tr th {\n",
       "        vertical-align: top;\n",
       "    }\n",
       "\n",
       "    .dataframe thead th {\n",
       "        text-align: right;\n",
       "    }\n",
       "</style>\n",
       "<table border=\"1\" class=\"dataframe\">\n",
       "  <thead>\n",
       "    <tr style=\"text-align: right;\">\n",
       "      <th></th>\n",
       "      <th>product_name</th>\n",
       "    </tr>\n",
       "  </thead>\n",
       "  <tbody>\n",
       "    <tr>\n",
       "      <th>0</th>\n",
       "      <td>【新款】Apple/苹果 iPhone 11 Pro Max 智能手机</td>\n",
       "    </tr>\n",
       "    <tr>\n",
       "      <th>1</th>\n",
       "      <td>【特惠】华为P30 Pro 8GB+256GB 全网通版</td>\n",
       "    </tr>\n",
       "    <tr>\n",
       "      <th>2</th>\n",
       "      <td>【限量】OnePlus 7T Pro 8GB+256GB 全网通</td>\n",
       "    </tr>\n",
       "    <tr>\n",
       "      <th>3</th>\n",
       "      <td>【新品】小米CC9 Pro 8GB+256GB 全网通版</td>\n",
       "    </tr>\n",
       "    <tr>\n",
       "      <th>4</th>\n",
       "      <td>【热销】三星Galaxy Note10+ 8GB+256GB 全网通</td>\n",
       "    </tr>\n",
       "  </tbody>\n",
       "</table>\n",
       "</div>"
      ],
      "text/plain": [
       "                          product_name\n",
       "0  【新款】Apple/苹果 iPhone 11 Pro Max 智能手机\n",
       "1         【特惠】华为P30 Pro 8GB+256GB 全网通版\n",
       "2     【限量】OnePlus 7T Pro 8GB+256GB 全网通\n",
       "3         【新品】小米CC9 Pro 8GB+256GB 全网通版\n",
       "4   【热销】三星Galaxy Note10+ 8GB+256GB 全网通"
      ]
     },
     "execution_count": 23,
     "metadata": {},
     "output_type": "execute_result"
    }
   ],
   "source": [
    "df.product_name = df.product_name.apply(lambda x: x.split('.')[1].strip())\n",
    "df.head()"
   ]
  },
  {
   "cell_type": "code",
   "execution_count": 24,
   "metadata": {},
   "outputs": [],
   "source": [
    "clothes_prompt = \"\"\"请你生成50条淘宝网里的商品的标题，每条在30个字左右，品类是女性的服饰箱包等等，标题里往往也会有一些促销类的信息，每行一条。\"\"\"\n",
    "clothes_data = generate_data_by_prompt(clothes_prompt)\n",
    "clothes_product_names = clothes_data.strip().split('\\n')\n"
   ]
  },
  {
   "cell_type": "code",
   "execution_count": 25,
   "metadata": {},
   "outputs": [
    {
     "data": {
      "text/html": [
       "<div>\n",
       "<style scoped>\n",
       "    .dataframe tbody tr th:only-of-type {\n",
       "        vertical-align: middle;\n",
       "    }\n",
       "\n",
       "    .dataframe tbody tr th {\n",
       "        vertical-align: top;\n",
       "    }\n",
       "\n",
       "    .dataframe thead th {\n",
       "        text-align: right;\n",
       "    }\n",
       "</style>\n",
       "<table border=\"1\" class=\"dataframe\">\n",
       "  <thead>\n",
       "    <tr style=\"text-align: right;\">\n",
       "      <th></th>\n",
       "      <th>product_name</th>\n",
       "    </tr>\n",
       "  </thead>\n",
       "  <tbody>\n",
       "    <tr>\n",
       "      <th>0</th>\n",
       "      <td>【新款】百搭潮流时尚女士单肩斜挎包</td>\n",
       "    </tr>\n",
       "    <tr>\n",
       "      <th>1</th>\n",
       "      <td>【大牌】原宿风百搭百变双肩斜挎包</td>\n",
       "    </tr>\n",
       "    <tr>\n",
       "      <th>2</th>\n",
       "      <td>【热卖】气质小清新手拿包女士单肩斜挎包</td>\n",
       "    </tr>\n",
       "    <tr>\n",
       "      <th>3</th>\n",
       "      <td>【折扣】经典款拼色时尚女士单肩斜挎包</td>\n",
       "    </tr>\n",
       "    <tr>\n",
       "      <th>4</th>\n",
       "      <td>【特惠】百搭潮流拼接时尚双肩斜挎包</td>\n",
       "    </tr>\n",
       "  </tbody>\n",
       "</table>\n",
       "</div>"
      ],
      "text/plain": [
       "          product_name\n",
       "0    【新款】百搭潮流时尚女士单肩斜挎包\n",
       "1     【大牌】原宿风百搭百变双肩斜挎包\n",
       "2  【热卖】气质小清新手拿包女士单肩斜挎包\n",
       "3   【折扣】经典款拼色时尚女士单肩斜挎包\n",
       "4    【特惠】百搭潮流拼接时尚双肩斜挎包"
      ]
     },
     "execution_count": 25,
     "metadata": {},
     "output_type": "execute_result"
    }
   ],
   "source": [
    "clothes_df = pd.DataFrame({'product_name': clothes_product_names})\n",
    "clothes_df.product_name = clothes_df.product_name.apply(lambda x: x.split('.')[1].strip())\n",
    "clothes_df.head()"
   ]
  },
  {
   "cell_type": "code",
   "execution_count": 26,
   "metadata": {},
   "outputs": [],
   "source": [
    "# append clothes_df to df\n",
    "df = pd.concat([df, clothes_df], axis=0)\n",
    "df = df.reset_index(drop=True)\n",
    "print(df.product_name)"
   ]
  },
  {
   "cell_type": "code",
   "execution_count": 27,
   "metadata": {},
   "outputs": [
    {
     "data": {
      "text/html": [
       "<div>\n",
       "<style scoped>\n",
       "    .dataframe tbody tr th:only-of-type {\n",
       "        vertical-align: middle;\n",
       "    }\n",
       "\n",
       "    .dataframe tbody tr th {\n",
       "        vertical-align: top;\n",
       "    }\n",
       "\n",
       "    .dataframe thead th {\n",
       "        text-align: right;\n",
       "    }\n",
       "</style>\n",
       "<table border=\"1\" class=\"dataframe\">\n",
       "  <thead>\n",
       "    <tr style=\"text-align: right;\">\n",
       "      <th></th>\n",
       "      <th>product_name</th>\n",
       "    </tr>\n",
       "  </thead>\n",
       "  <tbody>\n",
       "    <tr>\n",
       "      <th>0</th>\n",
       "      <td>【新款】Apple/苹果 iPhone 11 Pro Max 智能手机</td>\n",
       "    </tr>\n",
       "    <tr>\n",
       "      <th>1</th>\n",
       "      <td>【特惠】华为P30 Pro 8GB+256GB 全网通版</td>\n",
       "    </tr>\n",
       "    <tr>\n",
       "      <th>2</th>\n",
       "      <td>【限量】OnePlus 7T Pro 8GB+256GB 全网通</td>\n",
       "    </tr>\n",
       "    <tr>\n",
       "      <th>3</th>\n",
       "      <td>【新品】小米CC9 Pro 8GB+256GB 全网通版</td>\n",
       "    </tr>\n",
       "    <tr>\n",
       "      <th>4</th>\n",
       "      <td>【热销】三星Galaxy Note10+ 8GB+256GB 全网通</td>\n",
       "    </tr>\n",
       "    <tr>\n",
       "      <th>...</th>\n",
       "      <td>...</td>\n",
       "    </tr>\n",
       "    <tr>\n",
       "      <th>42</th>\n",
       "      <td>【优惠】气质小清新拼接百搭双肩斜挎包</td>\n",
       "    </tr>\n",
       "    <tr>\n",
       "      <th>43</th>\n",
       "      <td>【热卖】活力色彩精致小巧百搭女士单肩斜挎包</td>\n",
       "    </tr>\n",
       "    <tr>\n",
       "      <th>44</th>\n",
       "      <td>【特价】简约可爱原宿风时尚双肩斜挎包</td>\n",
       "    </tr>\n",
       "    <tr>\n",
       "      <th>45</th>\n",
       "      <td>【折扣】潮流小清新拼接百搭女士单肩斜挎包</td>\n",
       "    </tr>\n",
       "    <tr>\n",
       "      <th>46</th>\n",
       "      <td>【特惠】百搭潮流活力色彩拼色双肩斜挎</td>\n",
       "    </tr>\n",
       "  </tbody>\n",
       "</table>\n",
       "<p>97 rows × 1 columns</p>\n",
       "</div>"
      ],
      "text/plain": [
       "                           product_name\n",
       "0   【新款】Apple/苹果 iPhone 11 Pro Max 智能手机\n",
       "1          【特惠】华为P30 Pro 8GB+256GB 全网通版\n",
       "2      【限量】OnePlus 7T Pro 8GB+256GB 全网通\n",
       "3          【新品】小米CC9 Pro 8GB+256GB 全网通版\n",
       "4    【热销】三星Galaxy Note10+ 8GB+256GB 全网通\n",
       "..                                  ...\n",
       "42                   【优惠】气质小清新拼接百搭双肩斜挎包\n",
       "43                【热卖】活力色彩精致小巧百搭女士单肩斜挎包\n",
       "44                   【特价】简约可爱原宿风时尚双肩斜挎包\n",
       "45                 【折扣】潮流小清新拼接百搭女士单肩斜挎包\n",
       "46                   【特惠】百搭潮流活力色彩拼色双肩斜挎\n",
       "\n",
       "[97 rows x 1 columns]"
      ]
     },
     "metadata": {},
     "output_type": "display_data"
    }
   ],
   "source": [
    "display(df)"
   ]
  },
  {
   "attachments": {},
   "cell_type": "markdown",
   "metadata": {},
   "source": [
    "## 通过Embedding进行语义搜索"
   ]
  },
  {
   "cell_type": "code",
   "execution_count": 32,
   "metadata": {},
   "outputs": [],
   "source": [
    "from openai.embeddings_utils import get_embeddings\n",
    "import openai, os, backoff\n",
    "\n",
    "openai.api_key = os.environ.get(\"OPENAI_API_KEY\")\n",
    "embedding_model = \"text-embedding-ada-002\"\n",
    "\n",
    "batch_size = 100\n",
    "\n",
    "@backoff.on_exception(backoff.expo, openai.error.RateLimitError)\n",
    "def get_embeddings_with_backoff(prompts, engine):\n",
    "    embeddings = []\n",
    "    for i in range(0, len(prompts), batch_size):\n",
    "        batch = prompts[i:i+batch_size]\n",
    "        embeddings += get_embeddings(list_of_text=batch, engine=engine)\n",
    "    return embeddings\n",
    "\n",
    "prompts = df.product_name.tolist()\n",
    "prompt_batches = [prompts[i:i+batch_size] for i in range(0, len(prompts), batch_size)]\n",
    "\n",
    "embeddings = []\n",
    "for batch in prompt_batches:\n",
    "    batch_embeddings = get_embeddings_with_backoff(prompts=batch, engine=embedding_model)\n",
    "    embeddings += batch_embeddings\n",
    "\n",
    "df[\"embedding\"] = embeddings\n",
    "df.to_parquet(\"data/taobao_product_title.parquet\", index=False)"
   ]
  },
  {
   "cell_type": "code",
   "execution_count": 39,
   "metadata": {},
   "outputs": [
    {
     "name": "stdout",
     "output_type": "stream",
     "text": [
      "【新品】潮流简约可爱时尚双肩斜挎包\n",
      "【优惠】精致小巧可爱双肩斜挎包\n",
      "【新品】小清新百搭拼色女士单肩斜挎包\n"
     ]
    }
   ],
   "source": [
    "from openai.embeddings_utils import get_embedding, cosine_similarity\n",
    "\n",
    "# search through the reviews for a specific product\n",
    "def search_product(df, query, n=3, pprint=True):\n",
    "    product_embedding = get_embedding(\n",
    "        query,\n",
    "        engine=embedding_model\n",
    "    )\n",
    "    df[\"similarity\"] = df.embedding.apply(lambda x: cosine_similarity(x, product_embedding))\n",
    "\n",
    "    results = (\n",
    "        df.sort_values(\"similarity\", ascending=False)\n",
    "        .head(n)\n",
    "        .product_name\n",
    "    )\n",
    "    if pprint:\n",
    "        for r in results:\n",
    "            print(r)\n",
    "    return results\n",
    "\n",
    "\n",
    "results = search_product(df, \"自然淡雅背包\", n=3)"
   ]
  },
  {
   "attachments": {},
   "cell_type": "markdown",
   "metadata": {},
   "source": [
    "## 利用Embedding信息进行商品推荐的冷启动"
   ]
  },
  {
   "cell_type": "code",
   "execution_count": 72,
   "metadata": {},
   "outputs": [
    {
     "name": "stdout",
     "output_type": "stream",
     "text": [
      "【限量】OnePlus 7T Pro 8GB+256GB 全网通\n",
      "【新品】OnePlus 7T Pro 8GB+256GB 全网通\n",
      "【限量】荣耀V30 Pro 8GB+256GB 全网通版\n"
     ]
    }
   ],
   "source": [
    "def recommend_product(df, product_name, n=3, pprint=True):\n",
    "    product_embedding = df[df['product_name'] == product_name].iloc[0].embedding\n",
    "    df[\"similarity\"] = df.embedding.apply(lambda x: cosine_similarity(x, product_embedding))\n",
    "\n",
    "    results = (\n",
    "        df.sort_values(\"similarity\", ascending=False)\n",
    "        .head(n)\n",
    "        .product_name\n",
    "    )\n",
    "    if pprint:\n",
    "        for r in results:\n",
    "            print(r)\n",
    "    return results\n",
    "\n",
    "results = recommend_product(df, \"【限量】OnePlus 7T Pro 8GB+256GB 全网通\", n=3)"
   ]
  },
  {
   "attachments": {},
   "cell_type": "markdown",
   "metadata": {},
   "source": [
    "## 通过FAISS加速搜索过程"
   ]
  },
  {
   "cell_type": "code",
   "execution_count": 1,
   "metadata": {},
   "outputs": [
    {
     "name": "stdout",
     "output_type": "stream",
     "text": [
      "Collecting package metadata (current_repodata.json): done\n",
      "Solving environment: done\n",
      "\n",
      "## Package Plan ##\n",
      "\n",
      "  environment location: /Users/xuwenhao/miniconda3/envs/py310\n",
      "\n",
      "  added / updated specs:\n",
      "    - faiss\n",
      "\n",
      "\n",
      "The following packages will be SUPERSEDED by a higher-priority channel:\n",
      "\n",
      "  ca-certificates    pkgs/main::ca-certificates-2023.01.10~ --> conda-forge::ca-certificates-2022.12.7-h033912b_0 \n",
      "  certifi            pkgs/main/osx-64::certifi-2022.12.7-p~ --> conda-forge/noarch::certifi-2022.12.7-pyhd8ed1ab_0 \n",
      "  openssl              pkgs/main::openssl-1.1.1t-hca72f7f_0 --> conda-forge::openssl-1.1.1t-hfd90126_0 \n",
      "\n",
      "\n",
      "\n",
      "Downloading and Extracting Packages\n",
      "\n",
      "Preparing transaction: done\n",
      "Verifying transaction: done\n",
      "Executing transaction: done\n",
      "\n",
      "Note: you may need to restart the kernel to use updated packages.\n"
     ]
    }
   ],
   "source": [
    "%conda install -c conda-forge faiss"
   ]
  },
  {
   "cell_type": "code",
   "execution_count": 74,
   "metadata": {},
   "outputs": [],
   "source": [
    "import faiss\n",
    "import numpy as np\n",
    "\n",
    "def load_embeddings_to_faiss(df):\n",
    "    embeddings = np.array(df['embedding'].tolist()).astype('float32')\n",
    "    index = faiss.IndexFlatL2(embeddings.shape[1])\n",
    "    index.add(embeddings)\n",
    "    return index\n",
    "\n",
    "index = load_embeddings_to_faiss(df)"
   ]
  },
  {
   "cell_type": "code",
   "execution_count": 77,
   "metadata": {},
   "outputs": [],
   "source": [
    "def search_index(index, df, query, k=5):\n",
    "    query_vector = np.array(get_embedding(query, engine=embedding_model)).reshape(1, -1).astype('float32')\n",
    "    distances, indexes = index.search(query_vector, k)\n",
    "\n",
    "    results = []\n",
    "    for i in range(len(indexes)):\n",
    "        product_names = df.iloc[indexes[i]]['product_name'].values.tolist()\n",
    "        results.append((distances[i], product_names))    \n",
    "    return results\n",
    "\n",
    "products = search_index(index, df, \"自然淡雅背包\", k=3)"
   ]
  },
  {
   "cell_type": "code",
   "execution_count": 78,
   "metadata": {},
   "outputs": [
    {
     "name": "stdout",
     "output_type": "stream",
     "text": [
      "【新品】潮流简约可爱时尚双肩斜挎包 0.22473168\n",
      "【优惠】精致小巧可爱双肩斜挎包 0.22881898\n",
      "【新品】小清新百搭拼色女士单肩斜挎包 0.22901852\n"
     ]
    }
   ],
   "source": [
    "for distances, product_names in products:\n",
    "    for i in range(len(distances)):\n",
    "        print(product_names[i], distances[i])\n"
   ]
  }
 ],
 "metadata": {
  "kernelspec": {
   "display_name": "Python 3 (ipykernel)",
   "language": "python",
   "name": "python3"
  },
  "language_info": {
   "codemirror_mode": {
    "name": "ipython",
    "version": 3
   },
   "file_extension": ".py",
   "mimetype": "text/x-python",
   "name": "python",
   "nbconvert_exporter": "python",
   "pygments_lexer": "ipython3",
   "version": "3.8.13"
  },
  "vscode": {
   "interpreter": {
    "hash": "8114e84f04cf14e493992e1b725447accf84073d5ec18e7063d492738bf032cb"
   }
  }
 },
 "nbformat": 4,
 "nbformat_minor": 4
}
