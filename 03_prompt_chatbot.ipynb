{
 "cells": [
  {
   "cell_type": "markdown",
   "metadata": {},
   "source": [
    "## 让AI帮我做客服"
   ]
  },
  {
   "cell_type": "code",
   "execution_count": 1,
   "metadata": {},
   "outputs": [],
   "source": [
    "from openai import OpenAI\n",
    "import os\n",
    "\n",
    "client = OpenAI(api_key = os.environ.get(\"OPENAI_API_KEY\"))\n",
    "\n",
    "COMPLETION_MODEL = \"text-davinci-003\"\n",
    "\n",
    "\n",
    "prompt = '请你用朋友的语气回复给到客户，并称他为“亲”，他的订单已经发货在路上了，预计在3天之内会送达，订单号2021AEDG，我们很抱歉因为天气的原因物流时间比原来长，感谢他选购我们的商品。'\n",
    "\n",
    "def get_response(prompt, temperature = 1.0, stop=None):\n",
    "    completions = client.completions.create (\n",
    "        model=COMPLETION_MODEL,\n",
    "        prompt=prompt,\n",
    "        max_tokens=1024,\n",
    "        n=1,\n",
    "        stop=stop,\n",
    "        temperature=temperature,        \n",
    "    )\n",
    "    message = completions.choices[0].text\n",
    "    return message"
   ]
  },
  {
   "cell_type": "code",
   "execution_count": 2,
   "metadata": {},
   "outputs": [
    {
     "name": "stdout",
     "output_type": "stream",
     "text": [
      "\n",
      "\n",
      "亲，您的订单已发货，订单号2021AEDG，大概3天内就能收到包裹。由于天气影响，物流需要的时间比原来预期的要长，请您多多包涵，非常感谢您选购我们的商品。\n"
     ]
    }
   ],
   "source": [
    "print(get_response(prompt))"
   ]
  },
  {
   "cell_type": "code",
   "execution_count": 3,
   "metadata": {},
   "outputs": [
    {
     "name": "stdout",
     "output_type": "stream",
     "text": [
      "\n",
      "\n",
      "亲，您的订单（2021AEDG）已经发货在路上了，预计在3天内会到达。很抱歉这次因为天气的原因物流花费的时间比原来长了一点，感谢您对我们的商品选购，祝您购物愉快！\n"
     ]
    }
   ],
   "source": [
    "print(get_response(prompt))"
   ]
  },
  {
   "cell_type": "markdown",
   "metadata": {},
   "source": [
    "## 变更Temperature"
   ]
  },
  {
   "cell_type": "code",
   "execution_count": 4,
   "metadata": {},
   "outputs": [
    {
     "name": "stdout",
     "output_type": "stream",
     "text": [
      "\n",
      "\n",
      "亲，您的订单2021AEDG已经发货，预计在3天之内会送达。很抱歉因为天气的原因物流时间比原来长，感谢您选购我们的商品，祝您购物愉快！\n"
     ]
    }
   ],
   "source": [
    "print(get_response(prompt, 0.0))"
   ]
  },
  {
   "cell_type": "code",
   "execution_count": 5,
   "metadata": {},
   "outputs": [
    {
     "name": "stdout",
     "output_type": "stream",
     "text": [
      "\n",
      "\n",
      "亲，您的订单2021AEDG已经发货，预计在3天之内会送达。很抱歉因为天气的原因物流时间比原来长，感谢您选购我们的商品，祝您购物愉快！\n"
     ]
    }
   ],
   "source": [
    "print(get_response(prompt, 0.0))"
   ]
  },
  {
   "cell_type": "markdown",
   "metadata": {},
   "source": [
    "## 测试stop参数"
   ]
  },
  {
   "cell_type": "code",
   "execution_count": 6,
   "metadata": {},
   "outputs": [
    {
     "name": "stdout",
     "output_type": "stream",
     "text": [
      "\n",
      "\n",
      "亲\n"
     ]
    }
   ],
   "source": [
    "print(get_response(prompt, 0.0, \"，\"))"
   ]
  },
  {
   "cell_type": "markdown",
   "metadata": {},
   "source": [
    "## 让AI帮我做聊天机器人"
   ]
  },
  {
   "cell_type": "code",
   "execution_count": 7,
   "metadata": {},
   "outputs": [
    {
     "name": "stdout",
     "output_type": "stream",
     "text": [
      "鱼香肉丝做法：\n",
      "\n",
      "1.准备好食材：500克猪肉（剁碎）、200克黄瓜（切丝）、2个胡萝卜（切丝）、2茶匙盐、1茶匙料酒、1汤匙蚝油、3汤匙鱼香调料、1汤匙葱花、油适量、水适量。\n",
      "\n",
      "2. 猪肉倒入碗中加入盐、料酒、蚝油、鱼香调料搅拌均匀腌制10分钟。\n",
      "\n",
      "3.黄瓜、胡萝卜条放入一次性食用手套中搅拌均匀，加入少许料酒、盐搅拌均匀腌制10分钟。\n",
      "\n",
      "4.锅中倒入油，猪肉放入锅中参照切片厚度，开大火炒出油脂，改中小火炒至变色\n",
      "\n",
      "5. 锅中倒入黄瓜和胡萝卜丝，加入少许水翻炒至食材变软，加入葱花翻炒均匀即可。\n"
     ]
    }
   ],
   "source": [
    "question =  \"\"\"\n",
    "Q : 鱼香肉丝怎么做？\n",
    "A : \n",
    "\"\"\"\n",
    "print(get_response(question))"
   ]
  },
  {
   "cell_type": "markdown",
   "metadata": {},
   "source": [
    "## 多轮对话"
   ]
  },
  {
   "cell_type": "code",
   "execution_count": 8,
   "metadata": {},
   "outputs": [
    {
     "name": "stdout",
     "output_type": "stream",
     "text": [
      "1.准备好所需食材：400克牛肉，1个洋葱，2勺蚝油，1勺糖，1勺盐，2勺料酒，少许花椒粉，3勺葱末，3勺姜末，3勺蒜末，3勺生抽，3勺老抽，3勺辣椒粉，2勺水淀粉，适量油。\n",
      "2.将牛肉洗净后，放入清水中浸泡20分钟后再沥干水分，然后切成片，在肉上施加料酒和盐，抓捏抓匀，腌制20分钟备用。\n",
      "3.将洋葱洗净，切成葱花，蒜、葱、姜末拌入水中腌制备用。\n",
      "4.将油烧热，放入牛肉片，大火翻炒至肉片表面熟化，加入葱花、姜末和蒜末炒片刻，加入糖、蚝油、生抽、老抽、辣椒粉、料酒，改小火继续翻炒至肉片表面焦黄，倒入水淀粉勾芡，调味即可。\n"
     ]
    }
   ],
   "source": [
    "question =  \"\"\"\n",
    "Q : 鱼香肉丝怎么做？\n",
    "A : \n",
    "1.准备好食材：500克猪里脊肉，2个青椒，2个红椒，1个洋葱，2勺蒜蓉，3勺白糖，适量料酒，半勺盐，2勺生抽，2勺酱油，2勺醋，少许花椒粉，半勺老抽，适量水淀粉。\n",
    "2.将猪里脊肉洗净，沥干水分，放入料酒、盐，抓捏抓匀，腌制20分钟。\n",
    "3.将青红椒洗净，切成丝，洋葱洗净，切成葱花，蒜末拌入小苏打水中腌制。\n",
    "4.将猪里脊肉切成丝，放入锅中，加入洋葱，炒制至断生，加入青红椒，炒匀，加入腌制好的蒜末，炒制至断生。\n",
    "5.将白糖、生抽、酱油、醋、花椒粉、老抽、水淀粉倒入锅中，翻炒匀，用小火收汁，调味即可。\n",
    "\n",
    "Q : 那蚝油牛肉呢？\n",
    "A : \n",
    "\"\"\"\n",
    "print(get_response(question))"
   ]
  },
  {
   "cell_type": "markdown",
   "metadata": {},
   "source": [
    "## 让AI帮我解决情感分析问题\n"
   ]
  },
  {
   "cell_type": "code",
   "execution_count": 9,
   "metadata": {},
   "outputs": [
    {
     "name": "stdout",
     "output_type": "stream",
     "text": [
      "正面\n"
     ]
    }
   ],
   "source": [
    "prompts = \"\"\"判断一下用户的评论情感上是正面的还是负面的\n",
    "评论：买的银色版真的很好看，一天就到了，晚上就开始拿起来完系统很丝滑流畅，做工扎实，手感细腻，很精致哦苹果一如既往的好品质\n",
    "情感：正面\n",
    "\n",
    "评论：随意降价，不予价保，服务态度差\n",
    "情感：负面\n",
    "\"\"\"\n",
    "\n",
    "good_case = prompts + \"\"\"\n",
    "评论：外形外观：苹果审美一直很好，金色非常漂亮\n",
    "拍照效果：14pro升级的4800万像素真的是没的说，太好了，\n",
    "运行速度：苹果的反应速度好，用上三五年也不会卡顿的，之前的7P用到现在也不卡\n",
    "其他特色：14pro的磨砂金真的太好看了，不太高调，也不至于没有特点，非常耐看，很好的\n",
    "情感：\n",
    "\"\"\"\n",
    "\n",
    "print(get_response(good_case))"
   ]
  },
  {
   "cell_type": "code",
   "execution_count": 10,
   "metadata": {
    "tags": []
   },
   "outputs": [
    {
     "name": "stdout",
     "output_type": "stream",
     "text": [
      "负面\n"
     ]
    }
   ],
   "source": [
    "bad_case = prompts + \"\"\"\n",
    "评论：信号不好电池也不耐电不推荐购买\n",
    "情感\n",
    "\"\"\"\n",
    "\n",
    "print(get_response(bad_case))"
   ]
  }
 ],
 "metadata": {
  "kernelspec": {
   "display_name": "Python 3 (ipykernel)",
   "language": "python",
   "name": "python3"
  },
  "language_info": {
   "codemirror_mode": {
    "name": "ipython",
    "version": 3
   },
   "file_extension": ".py",
   "mimetype": "text/x-python",
   "name": "python",
   "nbconvert_exporter": "python",
   "pygments_lexer": "ipython3",
   "version": "3.10.1"
  },
  "vscode": {
   "interpreter": {
    "hash": "8114e84f04cf14e493992e1b725447accf84073d5ec18e7063d492738bf032cb"
   }
  }
 },
 "nbformat": 4,
 "nbformat_minor": 4
}
