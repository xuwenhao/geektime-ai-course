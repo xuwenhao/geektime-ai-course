{
 "cells": [
  {
   "cell_type": "code",
   "execution_count": 1,
   "metadata": {},
   "outputs": [
    {
     "name": "stdout",
     "output_type": "stream",
     "text": [
      "Collecting package metadata (current_repodata.json): done\n",
      "Solving environment: done\n",
      "\n",
      "# All requested packages already installed.\n",
      "\n",
      "Collecting package metadata (current_repodata.json): done\n",
      "Solving environment: done\n",
      "\n",
      "# All requested packages already installed.\n",
      "\n"
     ]
    }
   ],
   "source": [
    "!pip install -r requirements.txt"
   ]
  },
  {
   "cell_type": "markdown",
   "metadata": {},
   "source": [
    "### Fasttext效果测试"
   ]
  },
  {
   "cell_type": "code",
   "execution_count": 2,
   "metadata": {},
   "outputs": [
    {
     "name": "stdout",
     "output_type": "stream",
     "text": [
      "--2023-03-20 10:56:41--  https://dl.fbaipublicfiles.com/fasttext/vectors-crawl/cc.en.300.bin.gz\n",
      "Resolving dl.fbaipublicfiles.com (dl.fbaipublicfiles.com)... 104.22.75.142, 172.67.9.4, 104.22.74.142\n",
      "Connecting to dl.fbaipublicfiles.com (dl.fbaipublicfiles.com)|104.22.75.142|:443... connected.\n",
      "HTTP request sent, awaiting response... 200 OK\n",
      "Length: 4503593528 (4.2G) [application/octet-stream]\n",
      "Saving to: ‘cc.en.300.bin.gz’\n",
      "\n",
      "cc.en.300.bin.gz     22%[===>                ] 978.62M  2.72MB/s    in 6m 50s  \n",
      "\n",
      "2023-03-20 11:03:33 (2.39 MB/s) - Read error at byte 1026161458/4503593528 (error:1408F119:SSL routines:ssl3_get_record:decryption failed or bad record mac). Retrying.\n",
      "\n",
      "--2023-03-20 11:03:34--  (try: 2)  https://dl.fbaipublicfiles.com/fasttext/vectors-crawl/cc.en.300.bin.gz\n",
      "Connecting to dl.fbaipublicfiles.com (dl.fbaipublicfiles.com)|104.22.75.142|:443... connected.\n",
      "HTTP request sent, awaiting response... 206 Partial Content\n",
      "Length: 4503593528 (4.2G), 3477432070 (3.2G) remaining [application/octet-stream]\n",
      "Saving to: ‘cc.en.300.bin.gz’\n",
      "\n",
      "cc.en.300.bin.gz     56%[++++======>         ]   2.37G  5.96MB/s    in 8m 17s  \n",
      "\n",
      "2023-03-20 11:11:52 (2.92 MB/s) - Read error at byte 2547284735/4503593528 (error:1408F119:SSL routines:ssl3_get_record:decryption failed or bad record mac). Retrying.\n",
      "\n",
      "--2023-03-20 11:11:54--  (try: 3)  https://dl.fbaipublicfiles.com/fasttext/vectors-crawl/cc.en.300.bin.gz\n",
      "Connecting to dl.fbaipublicfiles.com (dl.fbaipublicfiles.com)|104.22.75.142|:443... connected.\n",
      "HTTP request sent, awaiting response... 206 Partial Content\n",
      "Length: 4503593528 (4.2G), 1956308793 (1.8G) remaining [application/octet-stream]\n",
      "Saving to: ‘cc.en.300.bin.gz’\n",
      "\n",
      "cc.en.300.bin.gz     80%[+++++++++++====>    ]   3.37G  7.67MB/s    in 2m 41s  \n",
      "\n",
      "2023-03-20 11:14:35 (6.32 MB/s) - Read error at byte 3614428013/4503593528 (error:1408F119:SSL routines:ssl3_get_record:decryption failed or bad record mac). Retrying.\n",
      "\n",
      "--2023-03-20 11:14:38--  (try: 4)  https://dl.fbaipublicfiles.com/fasttext/vectors-crawl/cc.en.300.bin.gz\n",
      "Connecting to dl.fbaipublicfiles.com (dl.fbaipublicfiles.com)|104.22.75.142|:443... connected.\n",
      "HTTP request sent, awaiting response... 206 Partial Content\n",
      "Length: 4503593528 (4.2G), 889165515 (848M) remaining [application/octet-stream]\n",
      "Saving to: ‘cc.en.300.bin.gz’\n",
      "\n",
      "cc.en.300.bin.gz    100%[++++++++++++++++===>]   4.19G  6.65MB/s    in 2m 7s   \n",
      "\n",
      "2023-03-20 11:16:46 (6.68 MB/s) - ‘cc.en.300.bin.gz’ saved [4503593528/4503593528]\n",
      "\n",
      "--2023-03-20 11:16:46--  http://./\n",
      "Resolving . (.)... 123.151.76.67, 61.151.174.112, 14.18.178.36, ...\n",
      "Connecting to . (.)|123.151.76.67|:80... failed: Operation timed out.\n",
      "Connecting to . (.)|61.151.174.112|:80... failed: Operation timed out.\n",
      "Connecting to . (.)|14.18.178.36|:80... ^C\n"
     ]
    }
   ],
   "source": [
    "!wget https://dl.fbaipublicfiles.com/fasttext/vectors-crawl/cc.en.300.bin.gz"
   ]
  },
  {
   "cell_type": "code",
   "execution_count": 5,
   "metadata": {},
   "outputs": [],
   "source": [
    "!gunzip ./cc.en.300.bin.gz "
   ]
  },
  {
   "cell_type": "code",
   "execution_count": 1,
   "metadata": {},
   "outputs": [],
   "source": [
    "import gensim\n",
    "import numpy as np\n",
    "# Load the FastText pre-trained model\n",
    "model = gensim.models.fasttext.load_facebook_model('cc.en.300.bin')\n",
    "\n",
    "def get_fasttext_vector(line):\n",
    "    vec = np.zeros(300) # Initialize an empty 300-dimensional vector\n",
    "    for word in line.split():\n",
    "        vec += model.wv[word]\n",
    "    vec /= len(line.split()) # Take the average over all words in the line\n",
    "    return vec"
   ]
  },
  {
   "cell_type": "code",
   "execution_count": 2,
   "metadata": {},
   "outputs": [],
   "source": [
    "positive_text = \"\"\"Wanted to save some to bring to my Chicago family but my North Carolina family ate all 4 boxes before I could pack. These are excellent...could serve to anyone\"\"\"\n",
    "negative_text = \"\"\"First, these should be called Mac - Coconut bars, as Coconut is the #2 ingredient and Mango is #3.  Second, lots of people don't like coconut.  I happen to be allergic to it.  Word to Amazon that if you want happy customers to make things like this more prominent.  Thanks.\"\"\"\n",
    "\n",
    "positive_example_in_fasttext = get_fasttext_vector(positive_text)\n",
    "negative_example_in_fasttext = get_fasttext_vector(negative_text)\n",
    "\n",
    "positive_review_in_fasttext = get_fasttext_vector(\"An Amazon review with a positive sentiment.\")\n",
    "negative_review_in_fasttext = get_fasttext_vector('An Amazon review with a negative sentiment.')"
   ]
  },
  {
   "cell_type": "code",
   "execution_count": 4,
   "metadata": {},
   "outputs": [
    {
     "name": "stdout",
     "output_type": "stream",
     "text": [
      "Fasttext好评例子的评分 : -0.000544\n",
      "Fasttext差评例子的评分 : 0.000369\n"
     ]
    }
   ],
   "source": [
    "from openai.embeddings_utils import cosine_similarity\n",
    "\n",
    "def get_fasttext_score(sample_embedding):\n",
    "  return cosine_similarity(sample_embedding, positive_review_in_fasttext) - cosine_similarity(sample_embedding, negative_review_in_fasttext)\n",
    "\n",
    "positive_score = get_fasttext_score(positive_example_in_fasttext)\n",
    "negative_score = get_fasttext_score(negative_example_in_fasttext)\n",
    "\n",
    "print(\"Fasttext好评例子的评分 : %f\" % (positive_score))\n",
    "print(\"Fasttext差评例子的评分 : %f\" % (negative_score))"
   ]
  },
  {
   "cell_type": "markdown",
   "metadata": {},
   "source": [
    "### T5效果测试"
   ]
  },
  {
   "cell_type": "code",
   "execution_count": null,
   "metadata": {},
   "outputs": [],
   "source": [
    "# install transformers if required\n",
    "#!conda install -y transformers -c conda-forge\n",
    "#!conda install -y pytorch torchvision -c pytorch\n",
    "#!conda install -y sentencepiece"
   ]
  },
  {
   "cell_type": "code",
   "execution_count": 5,
   "metadata": {},
   "outputs": [],
   "source": [
    "from transformers import AutoTokenizer, AutoModel\n",
    "import torch\n",
    "\n",
    "# load the T5 tokenizer and model\n",
    "tokenizer = AutoTokenizer.from_pretrained('t5-small', model_max_length=512)\n",
    "model = AutoModel.from_pretrained('t5-small')\n",
    "\n",
    "# set the model to evaluation mode\n",
    "model.eval()\n",
    "\n",
    "# encode the input sentence\n",
    "def get_t5_vector(line):\n",
    "    input_ids = tokenizer.encode(line, return_tensors='pt', max_length=512, truncation=True)\n",
    "    # generate the vector representation\n",
    "    with torch.no_grad():\n",
    "        outputs = model.encoder(input_ids=input_ids)\n",
    "        vector = outputs.last_hidden_state.mean(dim=1)\n",
    "    return vector[0]"
   ]
  },
  {
   "cell_type": "code",
   "execution_count": 6,
   "metadata": {},
   "outputs": [
    {
     "name": "stdout",
     "output_type": "stream",
     "text": [
      "T5好评例子的评分 : -0.010294\n",
      "T5差评例子的评分 : -0.008990\n"
     ]
    }
   ],
   "source": [
    "positive_review_in_t5 = get_t5_vector(\"An Amazon review with a positive sentiment.\")\n",
    "negative_review_in_t5 = get_t5_vector('An Amazon review with a negative sentiment.')\n",
    "\n",
    "def test_t5():\n",
    "  positive_example_in_t5 = get_t5_vector(positive_text)\n",
    "  negative_example_in_t5 = get_t5_vector(negative_text)\n",
    "\n",
    "  def get_t5_score(sample_embedding):\n",
    "    return cosine_similarity(sample_embedding, positive_review_in_t5) - cosine_similarity(sample_embedding, negative_review_in_t5)\n",
    "\n",
    "  positive_score = get_t5_score(positive_example_in_t5)\n",
    "  negative_score = get_t5_score(negative_example_in_t5)\n",
    "\n",
    "  print(\"T5好评例子的评分 : %f\" % (positive_score))\n",
    "  print(\"T5差评例子的评分 : %f\" % (negative_score))\n",
    "\n",
    "test_t5()"
   ]
  },
  {
   "cell_type": "code",
   "execution_count": 8,
   "metadata": {},
   "outputs": [
    {
     "name": "stdout",
     "output_type": "stream",
     "text": [
      "huggingface/tokenizers: The current process just got forked, after parallelism has already been used. Disabling parallelism to avoid deadlocks...\n",
      "To disable this warning, you can either:\n",
      "\t- Avoid using `tokenizers` before the fork if possible\n",
      "\t- Explicitly set the environment variable TOKENIZERS_PARALLELISM=(true | false)\n"
     ]
    },
    {
     "data": {
      "application/vnd.jupyter.widget-view+json": {
       "model_id": "4cc8a70db87547678546dd9b433cf7fd",
       "version_major": 2,
       "version_minor": 0
      },
      "text/plain": [
       "Downloading (…)/main/tokenizer.json:   0%|          | 0.00/1.39M [00:00<?, ?B/s]"
      ]
     },
     "metadata": {},
     "output_type": "display_data"
    },
    {
     "name": "stdout",
     "output_type": "stream",
     "text": [
      "T5好评例子的评分 : 0.010347\n",
      "T5差评例子的评分 : -0.023935\n"
     ]
    }
   ],
   "source": [
    "tokenizer = AutoTokenizer.from_pretrained('t5-base', model_max_length=512)\n",
    "model = AutoModel.from_pretrained('t5-base')\n",
    "\n",
    "# set the model to evaluation mode\n",
    "model.eval()\n",
    "\n",
    "# encode the input sentence\n",
    "def get_t5_vector(line):\n",
    "    input_ids = tokenizer.encode(line, return_tensors='pt', max_length=512, truncation=True)\n",
    "    # generate the vector representation\n",
    "    with torch.no_grad():\n",
    "        outputs = model.encoder(input_ids=input_ids)\n",
    "        vector = outputs.last_hidden_state.mean(dim=1)\n",
    "    return vector[0]\n",
    "\n",
    "positive_review_in_t5 = get_t5_vector(\"An Amazon review with a positive sentiment.\")\n",
    "negative_review_in_t5 = get_t5_vector('An Amazon review with a negative sentiment.')\n",
    "\n",
    "test_t5()"
   ]
  },
  {
   "cell_type": "code",
   "execution_count": 9,
   "metadata": {},
   "outputs": [],
   "source": [
    "import pandas as pd\n",
    "from sklearn.metrics import classification_report\n",
    "\n",
    "datafile_path = \"data/fine_food_reviews_with_embeddings_1k.csv\"\n",
    "\n",
    "df = pd.read_csv(datafile_path)\n",
    "\n",
    "\n",
    "df[\"t5_embedding\"] = df.Text.apply(get_t5_vector)\n",
    "# convert 5-star rating to binary sentiment\n",
    "df = df[df.Score != 3]\n",
    "df[\"sentiment\"] = df.Score.replace({1: \"negative\", 2: \"negative\", 4: \"positive\", 5: \"positive\"})"
   ]
  },
  {
   "cell_type": "code",
   "execution_count": 10,
   "metadata": {},
   "outputs": [
    {
     "name": "stdout",
     "output_type": "stream",
     "text": [
      "              precision    recall  f1-score   support\n",
      "\n",
      "    negative       0.60      0.90      0.72       136\n",
      "    positive       0.98      0.90      0.94       789\n",
      "\n",
      "    accuracy                           0.90       925\n",
      "   macro avg       0.79      0.90      0.83       925\n",
      "weighted avg       0.93      0.90      0.91       925\n",
      "\n"
     ]
    },
    {
     "data": {
      "image/png": "[encoded data removed]",
      "text/plain": [
       "<Figure size 640x480 with 1 Axes>"
      ]
     },
     "metadata": {},
     "output_type": "display_data"
    }
   ],
   "source": [
    "from sklearn.metrics import PrecisionRecallDisplay\n",
    "\n",
    "def evaluate_embeddings_approach():\n",
    "    def label_score(review_embedding):\n",
    "        return cosine_similarity(review_embedding, positive_review_in_t5) - cosine_similarity(review_embedding, negative_review_in_t5)\n",
    "\n",
    "    probas = df[\"t5_embedding\"].apply(lambda x: label_score(x))\n",
    "    preds = probas.apply(lambda x: 'positive' if x>0 else 'negative')\n",
    "\n",
    "    report = classification_report(df.sentiment, preds)\n",
    "    print(report)\n",
    "\n",
    "    display = PrecisionRecallDisplay.from_predictions(df.sentiment, probas, pos_label='positive')\n",
    "    _ = display.ax_.set_title(\"2-class Precision-Recall curve\")\n",
    "\n",
    "evaluate_embeddings_approach()\n"
   ]
  },
  {
   "cell_type": "code",
   "execution_count": null,
   "metadata": {},
   "outputs": [],
   "source": []
  }
 ],
 "metadata": {
  "kernelspec": {
   "display_name": "Python 3 (ipykernel)",
   "language": "python",
   "name": "python3"
  },
  "language_info": {
   "codemirror_mode": {
    "name": "ipython",
    "version": 3
   },
   "file_extension": ".py",
   "mimetype": "text/x-python",
   "name": "python",
   "nbconvert_exporter": "python",
   "pygments_lexer": "ipython3",
   "version": "3.10.9"
  },
  "vscode": {
   "interpreter": {
    "hash": "8114e84f04cf14e493992e1b725447accf84073d5ec18e7063d492738bf032cb"
   }
  }
 },
 "nbformat": 4,
 "nbformat_minor": 4
}
